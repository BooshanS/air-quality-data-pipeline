{
 "cells": [
  {
   "cell_type": "code",
   "execution_count": 1,
   "id": "4867da6e-9084-4939-b6cd-52a88e564f4c",
   "metadata": {},
   "outputs": [],
   "source": [
    "from prefect import flow,task\n",
    "from pathlib import Path\n",
    "import pandas as pd\n",
    "from prefect_gcp.cloud_storage import GcsBucket\n",
    "import requests\n",
    "from datetime import datetime,timedelta"
   ]
  },
  {
   "cell_type": "code",
   "execution_count": 2,
   "id": "6b19d1ac-16ef-40a8-a077-7b32324215fa",
   "metadata": {},
   "outputs": [
    {
     "name": "stdout",
     "output_type": "stream",
     "text": [
      "200\n"
     ]
    }
   ],
   "source": [
    "fromdate=(datetime.now()-timedelta(days=1)).date()\n",
    "baseurl=f\"https://api.openaq.org/v2/measurements?date_from={fromdate}T00%3A00%3A00&date_to={fromdate}T23%3A59%3A59&limit=10000&sort=desc&country=IN&radius=25000&order_by=datetime\"\n",
    "headers = {\n",
    "    \"accept\": \"application/json\",\n",
    "    \"content-type\": \"application/json\"\n",
    "}\n",
    "response=requests.get(baseurl,headers=headers)\n",
    "print(response.status_code)\n",
    "if response.status_code==200:\n",
    "    data=response.json()\n",
    "    # print(data['data'])\n",
    "else:\n",
    "    print(\"fail\")"
   ]
  },
  {
   "cell_type": "code",
   "execution_count": 3,
   "id": "7e44de9a-7350-450a-925a-abe5a29fac09",
   "metadata": {},
   "outputs": [
    {
     "name": "stdout",
     "output_type": "stream",
     "text": [
      "locationId                 int64\n",
      "location                  object\n",
      "parameter                 object\n",
      "value                    float64\n",
      "unit                      object\n",
      "country                   object\n",
      "city                      object\n",
      "isMobile                    bool\n",
      "isAnalysis                object\n",
      "entity                    object\n",
      "sensorType                object\n",
      "date.utc                  object\n",
      "date.local                object\n",
      "coordinates.latitude     float64\n",
      "coordinates.longitude    float64\n",
      "dtype: object\n",
      "      locationId                             location parameter       value  \\\n",
      "0         273205                                UT133     um003    0.000000   \n",
      "1          73924                         US Embassy B     um003   37.966364   \n",
      "2          64934                        NASA_AQCS_123  humidity   53.000000   \n",
      "3         354180                           HaryanaAQI      pm25   15.592857   \n",
      "4          64930                        NASA_AQCS_109     um050    0.000000   \n",
      "...          ...                                  ...       ...         ...   \n",
      "4761      273205                                UT133     um005    0.000000   \n",
      "4762       67569  Pride Orchid, Whitefield, Bangalore     um003  176.825926   \n",
      "4763       64931                        NASA_AQCS_112      pm25   12.953333   \n",
      "4764      273205                                UT133  pressure  989.156000   \n",
      "4765       73924                         US Embassy B     um025    0.068750   \n",
      "\n",
      "               unit country  city  isMobile isAnalysis  \\\n",
      "0     particles/cm³      IN  None     False       None   \n",
      "1     particles/cm³      IN  None     False       None   \n",
      "2                 %      IN  None     False       None   \n",
      "3             µg/m³      IN  None     False       None   \n",
      "4     particles/cm³      IN  None     False       None   \n",
      "...             ...     ...   ...       ...        ...   \n",
      "4761  particles/cm³      IN  None     False       None   \n",
      "4762  particles/cm³      IN  None     False       None   \n",
      "4763          µg/m³      IN  None     False       None   \n",
      "4764             mb      IN  None     False       None   \n",
      "4765  particles/cm³      IN  None     False       None   \n",
      "\n",
      "                      entity       sensorType                   date.utc  \\\n",
      "0     Community Organization  low-cost sensor  2023-11-11T23:00:00+00:00   \n",
      "1     Community Organization  low-cost sensor  2023-11-11T23:00:00+00:00   \n",
      "2     Community Organization  low-cost sensor  2023-11-11T23:00:00+00:00   \n",
      "3     Community Organization  low-cost sensor  2023-11-11T23:00:00+00:00   \n",
      "4     Community Organization  low-cost sensor  2023-11-11T23:00:00+00:00   \n",
      "...                      ...              ...                        ...   \n",
      "4761  Community Organization  low-cost sensor  2023-11-11T01:00:00+00:00   \n",
      "4762  Community Organization  low-cost sensor  2023-11-11T01:00:00+00:00   \n",
      "4763  Community Organization  low-cost sensor  2023-11-11T01:00:00+00:00   \n",
      "4764  Community Organization  low-cost sensor  2023-11-11T01:00:00+00:00   \n",
      "4765  Community Organization  low-cost sensor  2023-11-11T01:00:00+00:00   \n",
      "\n",
      "                     date.local  coordinates.latitude  coordinates.longitude  \n",
      "0     2023-11-12T04:30:00+05:30             28.544254              77.181030  \n",
      "1     2023-11-12T04:30:00+05:30             28.598204              77.183700  \n",
      "2     2023-11-12T04:30:00+05:30             22.882677              88.018690  \n",
      "3     2023-11-11T15:00:00-08:00             37.298252            -121.979836  \n",
      "4     2023-11-12T04:30:00+05:30             31.942041              75.386020  \n",
      "...                         ...                   ...                    ...  \n",
      "4761  2023-11-11T06:30:00+05:30             28.544254              77.181030  \n",
      "4762  2023-11-11T06:30:00+05:30             12.954312              77.722850  \n",
      "4763  2023-11-11T06:30:00+05:30             30.177834              74.947540  \n",
      "4764  2023-11-11T06:30:00+05:30             28.544254              77.181030  \n",
      "4765  2023-11-11T06:30:00+05:30             28.598204              77.183700  \n",
      "\n",
      "[4766 rows x 15 columns]\n",
      "71565\n"
     ]
    }
   ],
   "source": [
    "df=pd.json_normalize(data['results'])\n",
    "print(df.dtypes)\n",
    "# df = df.explode('measurements', ignore_index=True)\n",
    "print(df.head(-5))\n",
    "print(df.size)\n",
    "# Normalize the exploded 'measurements' column to create separate columns for each measurement attribute\n"
   ]
  },
  {
   "cell_type": "code",
   "execution_count": 4,
   "id": "2b92736f-bceb-4e4c-a90e-ecaaf6891e4e",
   "metadata": {},
   "outputs": [
    {
     "name": "stdout",
     "output_type": "stream",
     "text": [
      "locationId                             int64\n",
      "location                              object\n",
      "parameter                             object\n",
      "value                                float64\n",
      "unit                                  object\n",
      "country                               object\n",
      "city                                  object\n",
      "isMobile                                bool\n",
      "isAnalysis                            object\n",
      "entity                                object\n",
      "sensorType                            object\n",
      "date.utc                 datetime64[ns, UTC]\n",
      "date.local                    datetime64[ns]\n",
      "coordinates.latitude                 float64\n",
      "coordinates.longitude                float64\n",
      "dtype: object\n",
      "   locationId       location parameter      value           unit country  \\\n",
      "0      273205          UT133     um003   0.000000  particles/cm³      IN   \n",
      "1       73924   US Embassy B     um003  37.966364  particles/cm³      IN   \n",
      "2       64934  NASA_AQCS_123  humidity  53.000000              %      IN   \n",
      "3      354180     HaryanaAQI      pm25  15.592857          µg/m³      IN   \n",
      "4       64930  NASA_AQCS_109     um050   0.000000  particles/cm³      IN   \n",
      "\n",
      "   city  isMobile isAnalysis                  entity       sensorType  \\\n",
      "0  None     False       None  Community Organization  low-cost sensor   \n",
      "1  None     False       None  Community Organization  low-cost sensor   \n",
      "2  None     False       None  Community Organization  low-cost sensor   \n",
      "3  None     False       None  Community Organization  low-cost sensor   \n",
      "4  None     False       None  Community Organization  low-cost sensor   \n",
      "\n",
      "                   date.utc          date.local  coordinates.latitude  \\\n",
      "0 2023-11-11 23:00:00+00:00 2023-11-12 04:30:00             28.544254   \n",
      "1 2023-11-11 23:00:00+00:00 2023-11-12 04:30:00             28.598204   \n",
      "2 2023-11-11 23:00:00+00:00 2023-11-12 04:30:00             22.882677   \n",
      "3 2023-11-11 23:00:00+00:00 2023-11-11 15:00:00             37.298252   \n",
      "4 2023-11-11 23:00:00+00:00 2023-11-12 04:30:00             31.942041   \n",
      "\n",
      "   coordinates.longitude  \n",
      "0              77.181030  \n",
      "1              77.183700  \n",
      "2              88.018690  \n",
      "3            -121.979836  \n",
      "4              75.386020  \n"
     ]
    }
   ],
   "source": [
    "changetype={'location':str, 'parameter':str, 'unit':str,\n",
    "                'country':str, 'city':str, 'entity':str, \n",
    "                'sensorType':str\n",
    "                }\n",
    "df=df.astype(changetype)\n",
    "df['date.utc']=pd.to_datetime(df['date.utc'])\n",
    "df['date.local']=df['date.local'].str[:19]\n",
    "df['date.local']=pd.to_datetime(df['date.local'])\n",
    "print(df.dtypes)\n",
    "print(df.head())"
   ]
  },
  {
   "cell_type": "code",
   "execution_count": 6,
   "id": "59bc5f0c-5b32-45c4-91f6-0f7222e3effe",
   "metadata": {},
   "outputs": [
    {
     "name": "stdout",
     "output_type": "stream",
     "text": [
      "         locationId        value  coordinates.latitude  coordinates.longitude\n",
      "count  4.771000e+03  4771.000000           4771.000000            4771.000000\n",
      "mean   2.775287e+05   102.616809             23.315422              67.634154\n",
      "std    3.786690e+05   253.275127              7.910121              47.200466\n",
      "min    8.039000e+03     0.000000             12.448359            -121.979836\n",
      "25%    6.667300e+04     0.093667             13.048528              75.722360\n",
      "50%    2.202660e+05    13.334483             27.310116              77.573395\n",
      "75%    2.732050e+05    64.934872             28.598204              78.214710\n",
      "max    1.667903e+06  1016.395517             37.298252              88.596820\n"
     ]
    }
   ],
   "source": [
    "print(df.describe())"
   ]
  },
  {
   "cell_type": "code",
   "execution_count": 19,
   "id": "c3e94bb3-f0b9-4abd-bec3-ddc998468b52",
   "metadata": {},
   "outputs": [],
   "source": [
    "df=df.drop(columns=['isAnalysis'])"
   ]
  },
  {
   "cell_type": "code",
   "execution_count": 21,
   "id": "c20854a4-512d-45d8-81f9-01434e7667ac",
   "metadata": {},
   "outputs": [
    {
     "data": {
      "text/plain": [
       "0"
      ]
     },
     "execution_count": 21,
     "metadata": {},
     "output_type": "execute_result"
    }
   ],
   "source": [
    "df.isna().sum().sum()"
   ]
  },
  {
   "cell_type": "code",
   "execution_count": null,
   "id": "97558118-8802-4f6e-8444-2c70a875c180",
   "metadata": {},
   "outputs": [],
   "source": []
  },
  {
   "cell_type": "code",
   "execution_count": null,
   "id": "5dc7185f-a57f-4ccc-b30c-4e624b0d21c6",
   "metadata": {},
   "outputs": [],
   "source": []
  }
 ],
 "metadata": {
  "kernelspec": {
   "display_name": "Python 3 (ipykernel)",
   "language": "python",
   "name": "python3"
  },
  "language_info": {
   "codemirror_mode": {
    "name": "ipython",
    "version": 3
   },
   "file_extension": ".py",
   "mimetype": "text/x-python",
   "name": "python",
   "nbconvert_exporter": "python",
   "pygments_lexer": "ipython3",
   "version": "3.9.18"
  }
 },
 "nbformat": 4,
 "nbformat_minor": 5
}
